{
 "cells": [
  {
   "cell_type": "code",
   "execution_count": 18,
   "id": "aed70e6c-7761-41d8-adaa-54bad8b15ab8",
   "metadata": {},
   "outputs": [
    {
     "ename": "SystemExit",
     "evalue": "",
     "output_type": "error",
     "traceback": [
      "An exception has occurred, use %tb to see the full traceback.\n",
      "\u001b[1;31mSystemExit\u001b[0m\n"
     ]
    }
   ],
   "source": [
    "import pygame\n",
    "import sys\n",
    "\n",
    "# Initialize Pygame\n",
    "pygame.init()\n",
    "\n",
    "# Set up display\n",
    "width, height = 400, 600  # Window dimensions\n",
    "screen = pygame.display.set_mode((width, height))\n",
    "pygame.display.set_caption(\"Bouncing Ball Simulation\")\n",
    "\n",
    "# Colors\n",
    "WHITE = (255, 255, 255)\n",
    "BLUE = (0, 0, 255)\n",
    "BLACK = (0, 0, 0)\n",
    "\n",
    "# Ball properties\n",
    "ball_radius = 20\n",
    "ball_x = width // 2\n",
    "ball_y = 50\n",
    "ball_velocity_y = 0\n",
    "\n",
    "g = 0.8  # Gravity\n",
    "elasticity = 0.9  # Coefficient of restitution\n",
    "clock = pygame.time.Clock()\n",
    "\n",
    "# UI Elements\n",
    "font = pygame.font.Font(None, 36)\n",
    "reset_button_rect = pygame.Rect(width // 2 - 50, height - 50, 100, 40)\n",
    "def draw_ui():\n",
    "    # Draw reset button\n",
    "    pygame.draw.rect(screen, BLACK, reset_button_rect)\n",
    "    reset_text = font.render(\"Reset\", True, WHITE)\n",
    "    screen.blit(reset_text, (reset_button_rect.x + 20, reset_button_rect.y + 5))\n",
    "\n",
    "# Main loop\n",
    "running = True\n",
    "while running:\n",
    "    for event in pygame.event.get():\n",
    "        if event.type == pygame.QUIT:\n",
    "            running = False\n",
    "        elif event.type == pygame.MOUSEBUTTONDOWN:\n",
    "            if reset_button_rect.collidepoint(event.pos):\n",
    "                # Reset ball position and velocity\n",
    "                ball_y = 50\n",
    "                ball_velocity_y = 0\n",
    "\n",
    "    # Physics simulation\n",
    "    ball_velocity_y += g  # Apply gravity\n",
    "    ball_y += ball_velocity_y  # Update ball position\n",
    "\n",
    "    # Bounce condition\n",
    "    if ball_y + ball_radius >= height:\n",
    "        ball_y = height - ball_radius  # Reset position to ground level\n",
    "        ball_velocity_y = -ball_velocity_y * elasticity  # Reverse and reduce velocity\n",
    "\n",
    "    # Clear screen\n",
    "    screen.fill(WHITE)\n",
    "\n",
    "    # Draw ball\n",
    "    pygame.draw.circle(screen, BLUE, (ball_x, int(ball_y)), ball_radius)\n",
    "\n",
    "    # Draw UI\n",
    "    draw_ui()\n",
    "\n",
    "    # Update display\n",
    "    pygame.display.flip()\n",
    "\n",
    "    # Control frame rate\n",
    "    clock.tick(60)\n",
    "\n",
    "# Quit Pygame\n",
    "pygame.quit()\n",
    "sys.exit()\n"
   ]
  }
 ],
 "metadata": {
  "kernelspec": {
   "display_name": "Python 3 (ipykernel)",
   "language": "python",
   "name": "python3"
  },
  "language_info": {
   "codemirror_mode": {
    "name": "ipython",
    "version": 3
   },
   "file_extension": ".py",
   "mimetype": "text/x-python",
   "name": "python",
   "nbconvert_exporter": "python",
   "pygments_lexer": "ipython3",
   "version": "3.12.4"
  }
 },
 "nbformat": 4,
 "nbformat_minor": 5
}
